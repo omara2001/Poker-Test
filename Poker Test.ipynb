{
 "cells": [
  {
   "cell_type": "markdown",
   "metadata": {},
   "source": [
    "Name:Mohamed Yasser Ahmed Mahmoud Omara \n",
    "\n",
    "ID:20191476257"
   ]
  },
  {
   "cell_type": "markdown",
   "metadata": {},
   "source": [
    "   #                                  Poker Test Bonus Assignment"
   ]
  },
  {
   "cell_type": "code",
   "execution_count": 1,
   "metadata": {},
   "outputs": [],
   "source": [
    "import csv\n",
    "\n",
    "def readValues():\n",
    "    with open(\"numbers.csv\", 'r') as csvfile:\n",
    "        file = csv.reader(csvfile)\n",
    "        returned = []\n",
    "\n",
    "        for number_line in file:\n",
    "            for number in number_line:\n",
    "                if (len(number)<5): \n",
    "                    continue\n",
    "                returned.append(list(number))\n",
    "    return returned"
   ]
  },
  {
   "cell_type": "code",
   "execution_count": 2,
   "metadata": {},
   "outputs": [],
   "source": [
    "def evaluateHand(values):\n",
    "    returned=[]\n",
    "    for numbers in values:\n",
    "        dictionary = {}\n",
    "        for number in numbers:\n",
    "            if (number in dictionary):\n",
    "                dictionary[number]= int(dictionary[number]) +1\n",
    "            else:\n",
    "                dictionary.update({number:0})\n",
    "\n",
    "        returned.append(something(dictionary))\n",
    "    return returned"
   ]
  },
  {
   "cell_type": "code",
   "execution_count": 3,
   "metadata": {},
   "outputs": [],
   "source": [
    "def something(dictionary):\n",
    "    if (len(dictionary)== 5):\n",
    "        return \"Five different.\"\n",
    "    elif (len(dictionary)== 4):\n",
    "        return \"Exactly one pair.\"\n",
    "    elif (len(dictionary)== 3):\n",
    "        if (3 in dictionary.values()):\n",
    "            return \"Exactly three of a kind.\"\n",
    "        else:\n",
    "            return \"Exactly two pairs.\"\n",
    "    elif (len(dictionary)==2):\n",
    "        if (4 in dictionary.values()):\n",
    "            return \"Four of a kind.\"\n",
    "        else:\n",
    "            return \"Three of a kind plus one pair.\"\n",
    "    else:\n",
    "        return \"Five of a kind.\""
   ]
  },
  {
   "cell_type": "code",
   "execution_count": 4,
   "metadata": {},
   "outputs": [],
   "source": [
    "def print_stats(stats_for_hands):\n",
    "    five_different = list(filter(lambda x: x == \"Five different.\", stats_for_hands))\n",
    "    one_pair = list(filter(lambda x: x == \"Exactly one pair.\", stats_for_hands))\n",
    "    three_of_a_kind = list(filter(lambda x: x == \"Exactly three of a kind.\", stats_for_hands))\n",
    "    two_pair = list(filter(lambda x: x == \"Exactly two pairs.\", stats_for_hands))\n",
    "    four_of_a_kind = list(filter(lambda x: x == \"Four of a kind.\", stats_for_hands))\n",
    "    three_of_a_kind_and_pair = list(filter(lambda x: x == \"Three of a kind plus one pair.\", stats_for_hands))\n",
    "    five_of_a_kind = list(filter(lambda x: x == \"Five of a kind.\", stats_for_hands))\n",
    "    print(\"We have \"+str(len(five_different))+\" numbers where you have five different values.\")\n",
    "    print(\"We have \"+str(len(one_pair)) + \" numbers where you have exactly one pair.\")\n",
    "    print(\"We have \" + str(len(two_pair)) + \" numbers where you have exactly two pair.\")\n",
    "    print(\"We have \" + str(len(three_of_a_kind)) + \" numbers where you have exactly three of a kind.\")\n",
    "    print(\"We have \" + str(len(three_of_a_kind_and_pair)) + \" numbers where you have exactly three of a kind and a pair.\")\n",
    "    print(\"We have \" + str(len(four_of_a_kind)) + \" numbers where you have exactly four of a kind.\")\n",
    "    print(\"We have \" + str(len(five_of_a_kind)) + \" numbers where you have exactly five of a kind.\")\n"
   ]
  },
  {
   "cell_type": "code",
   "execution_count": 5,
   "metadata": {},
   "outputs": [
    {
     "name": "stdout",
     "output_type": "stream",
     "text": [
      "We have 214 numbers where you have five different values.\n",
      "We have 376 numbers where you have exactly one pair.\n",
      "We have 126 numbers where you have exactly two pair.\n",
      "We have 0 numbers where you have exactly three of a kind.\n",
      "We have 7 numbers where you have exactly three of a kind and a pair.\n",
      "We have 0 numbers where you have exactly four of a kind.\n",
      "We have 0 numbers where you have exactly five of a kind.\n"
     ]
    }
   ],
   "source": [
    "if __name__ == \"__main__\":\n",
    "    values=readValues()\n",
    "    stats_for_hands=evaluateHand(values)\n",
    "    print_stats(stats_for_hands)"
   ]
  }
 ],
 "metadata": {
  "kernelspec": {
   "display_name": "Python 3",
   "language": "python",
   "name": "python3"
  },
  "language_info": {
   "codemirror_mode": {
    "name": "ipython",
    "version": 3
   },
   "file_extension": ".py",
   "mimetype": "text/x-python",
   "name": "python",
   "nbconvert_exporter": "python",
   "pygments_lexer": "ipython3",
   "version": "3.8.3"
  }
 },
 "nbformat": 4,
 "nbformat_minor": 4
}
